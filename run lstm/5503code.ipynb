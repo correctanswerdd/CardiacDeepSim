{
 "cells": [
  {
   "cell_type": "markdown",
   "id": "13c4f91c",
   "metadata": {},
   "source": [
    "# Training"
   ]
  },
  {
   "cell_type": "code",
   "execution_count": 1,
   "id": "2d51297b",
   "metadata": {},
   "outputs": [
    {
     "name": "stdout",
     "output_type": "stream",
     "text": [
      "cuda\n"
     ]
    }
   ],
   "source": [
    "import os\n",
    "import time\n",
    "import numpy as np\n",
    "import numpy.random as npr\n",
    "import matplotlib.pyplot as plt\n",
    "from tqdm import tqdm\n",
    "\n",
    "import torch\n",
    "import torch.nn as nn\n",
    "import torch.optim as optim\n",
    "import torch.nn.functional as F\n",
    "from torch.utils.data import Dataset, DataLoader\n",
    "\n",
    "# from torchdiffeq.torchdiffeq import odeint\n",
    "\n",
    "device = torch.device(\"cuda\" if torch.cuda.is_available() else \"cpu\")\n",
    "print(device)\n",
    "\n",
    "from torchdiffeq import odeint"
   ]
  },
  {
   "cell_type": "code",
   "execution_count": 2,
   "id": "57f90b52",
   "metadata": {},
   "outputs": [],
   "source": [
    "def preprocess(data):\n",
    "    a = data\n",
    "    m, std = np.mean(a[:, :, 0]), np.std(a[:, :, 0])\n",
    "    a[:, :, 0] = (a[:, :, 0] - m) / std \n",
    "    m, std = np.mean(a[:, :, 1]), np.std(a[:, :, 1])\n",
    "    a[:, :, 1] = (a[:, :, 1] - m) / std \n",
    "    m, std = np.mean(a[:, :, 2]), np.std(a[:, :, 2])\n",
    "    a[:, :, 2] = (a[:, :, 2] - m) / std \n",
    "    m, std = np.mean(a[:, :, 3]), np.std(a[:, :, 3])\n",
    "    a[:, :, 3] = (a[:, :, 3] - m) / std \n",
    "    return a"
   ]
  },
  {
   "cell_type": "code",
   "execution_count": 3,
   "id": "227ca7a9",
   "metadata": {},
   "outputs": [],
   "source": [
    "# beats = np.load('control_beats_6.npy')\n",
    "import pickle\n",
    "\n",
    "with open('X_400_109_ori.pickle', 'rb') as handle:\n",
    "    data = pickle.load(handle)"
   ]
  },
  {
   "cell_type": "code",
   "execution_count": 4,
   "id": "70f39f95",
   "metadata": {},
   "outputs": [],
   "source": [
    "def remap(x, out_min, out_max):\n",
    "    in_min, in_max = np.min(x), np.max(x)\n",
    "    return (x - in_min) * (out_max - out_min) / (in_max - in_min) + out_min"
   ]
  },
  {
   "cell_type": "code",
   "execution_count": 5,
   "id": "3c15d6ff",
   "metadata": {},
   "outputs": [],
   "source": [
    "nindicators = 4\n",
    "ncells = 576\n",
    "latent_dim = 50\n",
    "nhidden = 50\n",
    "rnn_nhidden = 20\n",
    "obs_dim = ncells * nindicators\n",
    "batch_size = 16\n",
    "seq_len = 1000\n",
    "noise_std = 0.005\n",
    "cycle_len = 500"
   ]
  },
  {
   "cell_type": "code",
   "execution_count": 6,
   "id": "8dcf6c4e",
   "metadata": {},
   "outputs": [
    {
     "name": "stdout",
     "output_type": "stream",
     "text": [
      "42839 9960\n"
     ]
    }
   ],
   "source": [
    "class TimeSeriesDataset(Dataset):\n",
    "    def __init__(self, data, seq_len):\n",
    "        self.seq_len = seq_len\n",
    "        self.data = preprocess(data)\n",
    "\n",
    "    def __len__(self):\n",
    "        return self.data.shape[0] - self.seq_len - 1\n",
    "\n",
    "    def __getitem__(self, i):\n",
    "        inpts = self.data[i:i+self.seq_len].copy()\n",
    "        inpts[:, :, 0] = remap(inpts[:, :, 0], -1, 1)\n",
    "        inpts[:, :, 1] = remap(inpts[:, :, 1], -1, 1)\n",
    "        inpts[:, :, 2] = remap(inpts[:, :, 2], -1, 1)\n",
    "        inpts[:, :, 3] = remap(inpts[:, :, 3], -1, 1)\n",
    "        return torch.from_numpy(inpts).float()\n",
    "\n",
    "# Define the training and test sets\n",
    "train_size = int(data.shape[0] * 0.8)\n",
    "train_data = data[:train_size]\n",
    "test_data = data[train_size:]\n",
    "\n",
    "# Create dataloaders for the training and test sets\n",
    "train_dataset = TimeSeriesDataset(train_data, seq_len)\n",
    "test_dataset = TimeSeriesDataset(test_data, seq_len)\n",
    "train_loader = DataLoader(train_dataset, batch_size=batch_size, shuffle=True)\n",
    "test_loader = DataLoader(test_dataset, batch_size=batch_size, shuffle=False)\n",
    "\n",
    "print(len(train_dataset), len(test_dataset))\n",
    "samp_ts = torch.from_numpy(np.linspace(0, 1, num=seq_len)).float().to(device)"
   ]
  },
  {
   "cell_type": "code",
   "execution_count": 7,
   "id": "036979e0",
   "metadata": {},
   "outputs": [
    {
     "name": "stdout",
     "output_type": "stream",
     "text": [
      "torch.Size([16, 1000, 576, 4])\n"
     ]
    }
   ],
   "source": [
    "X = next(iter(train_loader))\n",
    "print(X.shape)"
   ]
  },
  {
   "cell_type": "code",
   "execution_count": 8,
   "id": "c552a997",
   "metadata": {},
   "outputs": [],
   "source": [
    "class LatentODEfunc(nn.Module):\n",
    "\n",
    "    def __init__(self, latent_dim=4, nhidden=20):\n",
    "        super(LatentODEfunc, self).__init__()\n",
    "        self.elu = nn.ELU(inplace=True)\n",
    "        self.fc1 = nn.Linear(latent_dim, nhidden)\n",
    "        self.fc2 = nn.Linear(nhidden, nhidden)\n",
    "        self.fc3 = nn.Linear(nhidden, latent_dim)   # outputs latent state of dim 4\n",
    "        self.nfe = 0\n",
    "\n",
    "    def forward(self, t, x): # Note that forward pass has time t as input as well, as compared to RNN where the argument would be no. of neurons in hidden layers!\n",
    "        self.nfe += 1\n",
    "        out = self.fc1(x)\n",
    "        out = self.elu(out)\n",
    "        out = self.fc2(out)\n",
    "        out = self.elu(out)\n",
    "        out = self.fc3(out)\n",
    "        return out"
   ]
  },
  {
   "cell_type": "code",
   "execution_count": 9,
   "id": "88cbe5ee",
   "metadata": {},
   "outputs": [],
   "source": [
    "class RecognitionRNN(nn.Module):\n",
    "\n",
    "    def __init__(self, latent_dim=4, obs_dim=2, nhidden=25, nbatch=1):\n",
    "        super(RecognitionRNN, self).__init__()\n",
    "        self.nhidden = nhidden\n",
    "        self.nbatch = nbatch\n",
    "        self.i2h = nn.Linear(obs_dim + nhidden, nhidden)\n",
    "        self.h2o = nn.Linear(nhidden, latent_dim * 2) # Note that we are outputing twice the size of latent dim, this will go in as qz0_mean and qz0_logvar ... see training loop\n",
    "\n",
    "    def forward(self, x, h):\n",
    "        combined = torch.cat((x, h), dim=1)\n",
    "        h = torch.tanh(self.i2h(combined))\n",
    "        out = self.h2o(h)\n",
    "        return out, h\n",
    "\n",
    "    def initHidden(self, batch_size=None):\n",
    "        if batch_size is None:\n",
    "            return torch.zeros(self.nbatch, self.nhidden)\n",
    "        else:\n",
    "            return torch.zeros(batch_size, self.nhidden)\n",
    "     "
   ]
  },
  {
   "cell_type": "code",
   "execution_count": 10,
   "id": "0d1be7a5",
   "metadata": {},
   "outputs": [],
   "source": [
    "class Decoder(nn.Module):\n",
    "\n",
    "    def __init__(self, latent_dim=4, obs_dim=2, nhidden=20):\n",
    "        super(Decoder, self).__init__()\n",
    "        self.relu = nn.ReLU(inplace=True)\n",
    "        self.fc1 = nn.Linear(latent_dim, nhidden)\n",
    "        self.fc2 = nn.Linear(nhidden, obs_dim)\n",
    "\n",
    "    def forward(self, z):\n",
    "        out = self.fc1(z)\n",
    "        out = self.relu(out)\n",
    "        out = self.fc2(out)\n",
    "        return out\n",
    "     "
   ]
  },
  {
   "cell_type": "code",
   "execution_count": 11,
   "id": "95ef65e0",
   "metadata": {},
   "outputs": [],
   "source": [
    "#same func as in last colab, we'll use this in training to calculate and show loss\n",
    "class RunningAverageMeter(object):\n",
    "    \"\"\"Computes and stores the average and current value\"\"\"\n",
    "\n",
    "    def __init__(self, momentum=0.99):\n",
    "        self.momentum = momentum\n",
    "        self.reset()\n",
    "\n",
    "    def reset(self):\n",
    "        self.val = None\n",
    "        self.avg = 0\n",
    "\n",
    "    def update(self, val):\n",
    "        if self.val is None:\n",
    "            self.avg = val\n",
    "        else:\n",
    "            self.avg = self.avg * self.momentum + val * (1 - self.momentum)\n",
    "        self.val = val"
   ]
  },
  {
   "cell_type": "code",
   "execution_count": 12,
   "id": "be69593d",
   "metadata": {},
   "outputs": [],
   "source": [
    "func = LatentODEfunc(latent_dim, nhidden).to(device)\n",
    "rec = RecognitionRNN(latent_dim, obs_dim, rnn_nhidden, batch_size).to(device)\n",
    "dec = Decoder(latent_dim, obs_dim, nhidden).to(device)"
   ]
  },
  {
   "cell_type": "code",
   "execution_count": 13,
   "id": "d1d6fc67",
   "metadata": {},
   "outputs": [],
   "source": [
    "params = (list(func.parameters()) + list(dec.parameters()) + list(rec.parameters()))\n",
    "#params"
   ]
  },
  {
   "cell_type": "code",
   "execution_count": 14,
   "id": "d845aa54",
   "metadata": {},
   "outputs": [],
   "source": [
    "optimizer = optim.Adam(params, lr=0.01)\n",
    "loss_meter = RunningAverageMeter()"
   ]
  },
  {
   "cell_type": "code",
   "execution_count": 15,
   "id": "ec6213a3",
   "metadata": {},
   "outputs": [],
   "source": [
    "def log_normal_pdf(x, mean, logvar):\n",
    "    result = -.5 * (logvar + (x - mean) ** 2. / torch.exp(logvar))\n",
    "    return result\n",
    "\n",
    "  \n",
    "def normal_kl(mu1, lv1, mu2, lv2):\n",
    "    v1 = torch.exp(lv1)\n",
    "    v2 = torch.exp(lv2)\n",
    "    lstd1 = lv1 / 2.\n",
    "    lstd2 = lv2 / 2.\n",
    "\n",
    "    kl = lstd2 - lstd1 + ((v1 + (mu1 - mu2) ** 2.) / (2. * v2)) - .5\n",
    "    return kl"
   ]
  },
  {
   "cell_type": "code",
   "execution_count": null,
   "id": "475f98b0",
   "metadata": {},
   "outputs": [],
   "source": [
    "import time\n",
    "start_time = time.time()\n",
    "\n",
    "niters = 2\n",
    "min_loss = 100000000\n",
    "scalar = 100000\n",
    "for itr in tqdm(range(1, niters+1)):\n",
    "    for bi, samp_trajs in enumerate(train_loader):\n",
    "        # Move input to device\n",
    "        b_, seq_l, _, _ = samp_trajs.size()\n",
    "        samp_trajs = samp_trajs.to(device)  # (16, seq_len, 576, 4)\n",
    "\n",
    "        # Zero gradients\n",
    "        optimizer.zero_grad()\n",
    "        \n",
    "        # backward in time to infer q(z_0)\n",
    "        h = rec.initHidden(batch_size=b_).to(device) # for recurrent nn\n",
    "        for t in reversed(range(seq_l)):\n",
    "            obs = samp_trajs[:, t, :]\n",
    "            obs = obs.view(b_, ncells*nindicators)\n",
    "            out, h = rec.forward(obs, h) # init forward pass to create batch_y0 for training\n",
    "\n",
    "        qz0_mean, qz0_logvar = out[:, :latent_dim], out[:, latent_dim:]\n",
    "        epsilon = torch.randn(qz0_mean.size()).to(device)\n",
    "        z0 = epsilon * torch.exp(.5 * qz0_logvar) + qz0_mean  # (N, 50)\n",
    "\n",
    "\n",
    "        # forward in time and solve ode for reconstructions\n",
    "        pred_z = odeint(func, z0, samp_ts).permute(1, 0, 2)\n",
    "        pred_x = dec(pred_z)  #decoder\n",
    "        pred_x = pred_x.view(b_, seq_l, ncells, nindicators)\n",
    "\n",
    "\n",
    "        # compute loss\n",
    "        noise_std_ = torch.zeros(pred_x.size()).to(device) + noise_std\n",
    "        noise_logvar = 2. * torch.log(noise_std_).to(device)\n",
    "        logpx = log_normal_pdf(samp_trajs, pred_x, noise_logvar).sum(-1).sum(-1).sum(-1).sum(-1)\n",
    "        pz0_mean = pz0_logvar = torch.zeros(z0.size()).to(device)\n",
    "        analytic_kl = normal_kl(qz0_mean, qz0_logvar,pz0_mean, pz0_logvar).sum(-1)\n",
    "        loss = torch.mean(-logpx + analytic_kl, dim=0)\n",
    "\n",
    "        loss.backward()\n",
    "        optimizer.step()\n",
    "        loss_meter.update(loss.item())\n",
    "        print(loss_meter.avg)\n",
    "\n",
    "        if loss_meter.avg/scalar < min_loss:\n",
    "            min_loss = loss_meter.avg/scalar\n",
    "            index = np.random.randint(b_)\n",
    "\n",
    "            plt.figure()\n",
    "            plt.scatter(pred_x[index,:, :, 0].detach().cpu().numpy(), samp_trajs[index,:, :, 0].detach().cpu().numpy()) #1000\n",
    "            plt.show()\n",
    "\n",
    "            plt.figure()\n",
    "            plt.plot(samp_trajs[index,:, :, 0].detach().cpu().numpy())\n",
    "            plt.plot(pred_x[index,:, :, 0].detach().cpu().numpy())\n",
    "            plt.show()\n",
    "\n",
    "            print('Epoch: {}, running avg elbo: {:.4f}'.format(itr, -loss_meter.avg))\n",
    "\n",
    "            # Specify a path to save to\n",
    "            PATH = f\"0330/lstm_ar_usingbench2-{itr}-{bi}-VAEnonoise.pt\"\n",
    "\n",
    "            torch.save({\n",
    "                        'func_dict': func.state_dict(),\n",
    "                        'rec_dict': rec.state_dict(),\n",
    "                        'dec_dict': dec.state_dict()\n",
    "                        }, PATH)\n",
    "\n",
    "end_time = time.time()\n",
    "\n",
    "total_time = end_time - start_time\n",
    "print(f\"Total running time: {total_time} seconds.\")"
   ]
  },
  {
   "cell_type": "markdown",
   "id": "aa355f8d",
   "metadata": {},
   "source": [
    "# forecasting"
   ]
  },
  {
   "cell_type": "code",
   "execution_count": 25,
   "id": "971f2c96",
   "metadata": {},
   "outputs": [],
   "source": [
    "s = 500  # random starting time in test time span"
   ]
  },
  {
   "cell_type": "code",
   "execution_count": 26,
   "id": "37bc21fc",
   "metadata": {},
   "outputs": [
    {
     "name": "stdout",
     "output_type": "stream",
     "text": [
      "torch.Size([1, 1000, 576, 4])\n",
      "torch.Size([1, 1000, 576, 4])\n",
      "Total running time: 1.9428365230560303 seconds.\n"
     ]
    }
   ],
   "source": [
    "import time\n",
    "\n",
    "start_time = time.time()\n",
    "\n",
    "# load and prediction ODE \n",
    "nindicators = 4\n",
    "ncells = 576\n",
    "latent_dim = 50\n",
    "nhidden = 50\n",
    "rnn_nhidden = 20\n",
    "obs_dim = ncells * nindicators\n",
    "batch_size = 16\n",
    "seq_len = 1000\n",
    "noise_std = 0.005\n",
    "cycle_len = 500\n",
    "\n",
    "\n",
    "def remap(x, out_min, out_max):\n",
    "    in_min, in_max = np.min(x), np.max(x)\n",
    "    return (x - in_min) * (out_max - out_min) / (in_max - in_min) + out_min\n",
    "\n",
    "\n",
    "class LatentODEfunc(nn.Module):\n",
    "\n",
    "    def __init__(self, latent_dim=4, nhidden=20):\n",
    "        super(LatentODEfunc, self).__init__()\n",
    "        self.elu = nn.ELU(inplace=True)\n",
    "        self.fc1 = nn.Linear(latent_dim, nhidden)\n",
    "        self.fc2 = nn.Linear(nhidden, nhidden)\n",
    "        self.fc3 = nn.Linear(nhidden, latent_dim)   # outputs latent state of dim 4\n",
    "        self.nfe = 0\n",
    "\n",
    "    def forward(self, t, x): # Note that forward pass has time t as input as well, as compared to RNN where the argument would be no. of neurons in hidden layers!\n",
    "        self.nfe += 1\n",
    "        out = self.fc1(x)\n",
    "        out = self.elu(out)\n",
    "        out = self.fc2(out)\n",
    "        out = self.elu(out)\n",
    "        out = self.fc3(out)\n",
    "        return out\n",
    "    \n",
    "class RecognitionRNN(nn.Module):\n",
    "\n",
    "    def __init__(self, latent_dim=4, obs_dim=2, nhidden=25, nbatch=1):\n",
    "        super(RecognitionRNN, self).__init__()\n",
    "        self.nhidden = nhidden\n",
    "        self.nbatch = nbatch\n",
    "        self.i2h = nn.Linear(obs_dim + nhidden, nhidden)\n",
    "        self.h2o = nn.Linear(nhidden, latent_dim * 2) # Note that we are outputing twice the size of latent dim, this will go in as qz0_mean and qz0_logvar ... see training loop\n",
    "\n",
    "    def forward(self, x, h):\n",
    "        combined = torch.cat((x, h), dim=1)\n",
    "        h = torch.tanh(self.i2h(combined))\n",
    "        out = self.h2o(h)\n",
    "        return out, h\n",
    "\n",
    "    def initHidden(self, batch_size=None):\n",
    "        if batch_size is None:\n",
    "            return torch.zeros(self.nbatch, self.nhidden)\n",
    "        else:\n",
    "            return torch.zeros(batch_size, self.nhidden)\n",
    "\n",
    "\n",
    "class Decoder(nn.Module):\n",
    "\n",
    "    def __init__(self, latent_dim=4, obs_dim=2, nhidden=20):\n",
    "        super(Decoder, self).__init__()\n",
    "        self.relu = nn.ReLU(inplace=True)\n",
    "        self.fc1 = nn.Linear(latent_dim, nhidden)\n",
    "        self.fc2 = nn.Linear(nhidden, obs_dim)\n",
    "\n",
    "    def forward(self, z):\n",
    "        out = self.fc1(z)\n",
    "        out = self.relu(out)\n",
    "        out = self.fc2(out)\n",
    "        return out\n",
    "\n",
    "    \n",
    "PATH = \"0329/lstm_ar_usingbench2-2-2355-VAEnonoise.pt\"\n",
    "\n",
    "func = LatentODEfunc(latent_dim, nhidden).to(device)\n",
    "rec = RecognitionRNN(latent_dim, obs_dim, rnn_nhidden, batch_size).to(device)\n",
    "dec = Decoder(latent_dim, obs_dim, nhidden).to(device)\n",
    "\n",
    "checkpoint = torch.load(PATH)\n",
    "func.load_state_dict(checkpoint['func_dict'])\n",
    "rec.load_state_dict(checkpoint['rec_dict'])\n",
    "dec.load_state_dict(checkpoint['dec_dict'])\n",
    "\n",
    "func.eval()\n",
    "rec.eval()\n",
    "dec.eval()\n",
    "\n",
    "\n",
    "# Test the model\n",
    "future_n_cycle = 2\n",
    "with torch.no_grad():\n",
    "    h = torch.zeros(1, rnn_nhidden).to(device)\n",
    "    inpt_data = test_data[s:s+cycle_len*future_n_cycle].copy()\n",
    "    inpt_data[:, :, 0] = remap(inpt_data[:, :, 0], -1, 1)\n",
    "    inpt_data[:, :, 1] = remap(inpt_data[:, :, 1], -1, 1)\n",
    "    inpt_data[:, :, 2] = remap(inpt_data[:, :, 2], -1, 1)\n",
    "    inpt_data[:, :, 3] = remap(inpt_data[:, :, 3], -1, 1)\n",
    "    inpts = torch.from_numpy(inpt_data).float().unsqueeze(0).to(device)\n",
    "    print(inpts.size())\n",
    "\n",
    "    # warm-up\n",
    "    for t in reversed(range(seq_len)):\n",
    "        obs = inpts[:, t, :]\n",
    "        obs = obs.view(1, ncells*nindicators)\n",
    "        out, h = rec.forward(obs, h) # init forward pass to create batch_y0 for training\n",
    "\n",
    "    qz0_mean, qz0_logvar = out[:, :latent_dim], out[:, latent_dim:]\n",
    "    epsilon = torch.randn(qz0_mean.size()).to(device)\n",
    "    z0 = epsilon * torch.exp(.5 * qz0_logvar) + qz0_mean\n",
    "\n",
    "    future_ts = torch.from_numpy(np.linspace(0, future_n_cycle/2, num=cycle_len*future_n_cycle)).to(device)\n",
    "\n",
    "    # forward in time and solve ode for reconstructions\n",
    "    pred_z = odeint(func, z0, future_ts).permute(1, 0, 2)\n",
    "    pred_x = dec(pred_z)  #decoder\n",
    "    pred_x = pred_x.view(1, -1, ncells, nindicators)\n",
    "    print(pred_x.size())\n",
    "    pred_x = pred_x.cpu().detach().numpy()\n",
    "    \n",
    "end_time = time.time()\n",
    "\n",
    "total_time = end_time - start_time\n",
    "print(f\"Total running time: {total_time} seconds.\")"
   ]
  },
  {
   "cell_type": "code",
   "execution_count": 44,
   "id": "52b1cc9d",
   "metadata": {},
   "outputs": [
    {
     "name": "stderr",
     "output_type": "stream",
     "text": [
      "/tmp/ipykernel_2942/3495800825.py:4: MatplotlibDeprecationWarning: The seaborn styles shipped by Matplotlib are deprecated since 3.6, as they no longer correspond to the styles shipped by seaborn. However, they will remain available as 'seaborn-v0_8-<style>'. Alternatively, directly use the seaborn API instead.\n",
      "  plt.style.use(\"seaborn\")\n"
     ]
    },
    {
     "data": {
      "image/png": "[encoded data removed]",
      "text/plain": [
       "<Figure size 800x550 with 1 Axes>"
      ]
     },
     "metadata": {},
     "output_type": "display_data"
    }
   ],
   "source": [
    "import matplotlib.pyplot as plt\n",
    "import seaborn as sns\n",
    "from random import randint\n",
    "plt.style.use(\"seaborn\")\n",
    "sns.set_style(\"white\")\n",
    "sns.set_style(\"whitegrid\", {'grid.color': '.8', 'grid.linestyle': '--'})\n",
    "\n",
    "\n",
    "\n",
    "cell = 84\n",
    "rg = 1000\n",
    "plt.figure()\n",
    "plt.plot(range(rg), remap(pred_x[0, :rg, cell, 0], -1, 1), label=\"Neural ODE\", color=\"lightcoral\")\n",
    "plt.plot(range(rg), remap(preprocess(test_data)[s:s+rg, cell, 0], -1, 1), label=\"Golden Standard\", color=\"royalblue\", linestyle=\"dashed\")\n",
    "plt.legend()\n",
    "plt.show()"
   ]
  },
  {
   "cell_type": "code",
   "execution_count": null,
   "id": "55f284b9",
   "metadata": {},
   "outputs": [],
   "source": []
  }
 ],
 "metadata": {
  "kernelspec": {
   "display_name": "Python 3 (ipykernel)",
   "language": "python",
   "name": "python3"
  },
  "language_info": {
   "codemirror_mode": {
    "name": "ipython",
    "version": 3
   },
   "file_extension": ".py",
   "mimetype": "text/x-python",
   "name": "python",
   "nbconvert_exporter": "python",
   "pygments_lexer": "ipython3",
   "version": "3.10.8"
  }
 },
 "nbformat": 4,
 "nbformat_minor": 5
}
